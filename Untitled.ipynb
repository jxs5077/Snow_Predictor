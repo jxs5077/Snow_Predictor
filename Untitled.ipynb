{
 "cells": [
  {
   "cell_type": "code",
   "execution_count": 1,
   "metadata": {},
   "outputs": [],
   "source": [
    "import pandas as pd"
   ]
  },
  {
   "cell_type": "code",
   "execution_count": null,
   "metadata": {},
   "outputs": [],
   "source": [
    "url = \"https://waterdata.usgs.gov/co/nwis/dv?referred_module=sw&county_cd=08001&county_cd=08003&county_cd=08005&county_cd=08007&county_cd=08009&county_cd=08011&county_cd=08013&county_cd=08014&county_cd=08015&county_cd=08017&county_cd=08019&county_cd=08021&county_cd=08023&county_cd=08025&county_cd=08027&county_cd=08029&county_cd=08031&county_cd=08033&county_cd=08035&county_cd=08037&county_cd=08039&county_cd=08041&county_cd=08043&county_cd=08045&county_cd=08047&county_cd=08049&county_cd=08051&county_cd=08053&county_cd=08055&county_cd=08057&county_cd=08059&county_cd=08061&county_cd=08063&county_cd=08065&county_cd=08067&county_cd=08069&county_cd=08071&county_cd=08073&county_cd=08075&county_cd=08077&county_cd=08079&county_cd=08081&county_cd=08083&county_cd=08085&county_cd=08087&county_cd=08089&county_cd=08091&county_cd=08093&county_cd=08095&county_cd=08097&county_cd=08099&county_cd=08101&county_cd=08103&county_cd=08105&county_cd=08107&county_cd=08109&county_cd=08111&county_cd=08113&county_cd=08115&county_cd=08117&county_cd=08119&county_cd=08121&county_cd=08123&county_cd=08125&huc_cd=10180001&huc_cd=10180002&huc_cd=10180010&huc_cd=10190001&huc_cd=10190002&huc_cd=10190003&huc_cd=10190004&huc_cd=10190005&huc_cd=10190006&huc_cd=10190007&huc_cd=10190008&huc_cd=10190009&huc_cd=10190010&huc_cd=10190011&huc_cd=10190012&huc_cd=10190013&huc_cd=10190014&huc_cd=10190015&huc_cd=10190016&huc_cd=10190017&huc_cd=10190018&huc_cd=10250001&huc_cd=10250002&huc_cd=10250003&huc_cd=10250004&huc_cd=10250005&huc_cd=10250006&huc_cd=10250012&huc_cd=10250013&huc_cd=10260001&huc_cd=10260002&huc_cd=10260004&huc_cd=11020001&huc_cd=11020002&huc_cd=11020003&huc_cd=11020004&huc_cd=11020005&huc_cd=11020006&huc_cd=11020007&huc_cd=11020008&huc_cd=11020009&huc_cd=11020010&huc_cd=11020011&huc_cd=11020012&huc_cd=11020013&huc_cd=11030001&huc_cd=11030002&huc_cd=11040001&huc_cd=11040002&huc_cd=11040003&huc_cd=11040004&huc_cd=11040005&huc_cd=11080001&huc_cd=13010001&huc_cd=13010002&huc_cd=13010003&huc_cd=13010004&huc_cd=13010005&huc_cd=13020101&huc_cd=13020102&huc_cd=14010001&huc_cd=14010002&huc_cd=14010003&huc_cd=14010004&huc_cd=14010005&huc_cd=14010006&huc_cd=14020001&huc_cd=14020002&huc_cd=14020003&huc_cd=14020004&huc_cd=14020005&huc_cd=14020006&huc_cd=14030001&huc_cd=14030002&huc_cd=14030003&huc_cd=14030004&huc_cd=14030005&huc_cd=14040106&huc_cd=14040109&huc_cd=14050001&huc_cd=14050002&huc_cd=14050003&huc_cd=14050005&huc_cd=14050006&huc_cd=14050007&huc_cd=14060001&huc_cd=14080101&huc_cd=14080102&huc_cd=14080104&huc_cd=14080105&huc_cd=14080107&huc_cd=14080201&huc_cd=14080202&huc_cd=14080203&huc_cd=13010002&huc_cd=14080104&huc_cd=11020007&huc_cd=10250001&huc_cd=11020001&huc_cd=11040005&huc_cd=10190013&huc_cd=11020011&huc_cd=10190006&huc_cd=10190011&huc_cd=14010002&huc_cd=10190007&huc_cd=11080001&huc_cd=11020004&huc_cd=11040001&huc_cd=10190004&huc_cd=14010001&huc_cd=14010005&huc_cd=13010005&huc_cd=10190009&huc_cd=14010003&huc_cd=14020001&huc_cd=11020003&huc_cd=10250005&huc_cd=11020008&huc_cd=11020006&huc_cd=10190010&huc_cd=10260004&huc_cd=10250013&huc_cd=14050003&huc_cd=10190008&huc_cd=14030004&huc_cd=14060001&huc_cd=14020005&huc_cd=10190016&huc_cd=14080201&huc_cd=10190018&huc_cd=14050007&huc_cd=14050002&huc_cd=14080107&huc_cd=14080202&huc_cd=11030001&huc_cd=14080105&huc_cd=10190003&huc_cd=10190012&huc_cd=14080203&huc_cd=11040003&huc_cd=14020004&huc_cd=10250002&huc_cd=10260002&huc_cd=10180001&huc_cd=14010006&huc_cd=10190014&huc_cd=14050006&huc_cd=14080102&huc_cd=11020010&huc_cd=13020102&huc_cd=13010001&huc_cd=14010004&huc_cd=11020012&huc_cd=13010004&huc_cd=13010003&huc_cd=14030003&huc_cd=11040004&huc_cd=10190017&huc_cd=10260001&huc_cd=10250012&huc_cd=10250003&huc_cd=10190001&huc_cd=10190005&huc_cd=10250006&huc_cd=14020003&huc_cd=11020013&huc_cd=14020006&huc_cd=11020002&huc_cd=11020009&huc_cd=11020005&huc_cd=11040002&huc_cd=14030005&huc_cd=14030002&huc_cd=14040106&huc_cd=14020002&huc_cd=10180010&huc_cd=10190015&huc_cd=10180002&huc_cd=10250004&huc_cd=13020101&huc_cd=14080101&huc_cd=10190002&huc_cd=14050005&huc_cd=14050001&huc_cd=14040109&huc_cd=14030001&huc_cd=11030002&site_tp_cd=AT&site_tp_cd=LK&site_tp_cd=ST&site_tp_cd=ST-DCH&site_tp_cd=SP&coordinate_format=dms&index_pmcode_00054=1&index_pmcode_00060=1&index_pmcode_00061=1&index_pmcode_00065=1&index_pmcode_62611=1&index_pmcode_62614=1&index_pmcode_72019=1&index_pmcode_00010=1&index_pmcode_00300=1&index_pmcode_00400=1&index_pmcode_80154=1&index_pmcode_80155=1&index_pmcode_99133=1&index_pmcode_99409=1&group_key=county_cd&sitefile_output_format=html_table&column_name=station_nm&range_selection=days&period=365&begin_date=2020-05-24&end_date=2021-05-23&format=html_table&date_format=YYYY-MM-DD&rdb_compression=file&list_of_search_criteria=county_cd%2Chuc_cd_by_code%2Chuc_cd_by_name%2Clat_long_bounding_box%2Csite_tp_cd%2Crealtime_parameter_selection\"\n",
    "tables = pd.read_html(url)\n",
    "tables"
   ]
  },
  {
   "cell_type": "code",
   "execution_count": null,
   "metadata": {},
   "outputs": [],
   "source": [
    "type(tables)"
   ]
  },
  {
   "cell_type": "code",
   "execution_count": null,
   "metadata": {},
   "outputs": [],
   "source": [
    "len(tables)"
   ]
  },
  {
   "cell_type": "code",
   "execution_count": null,
   "metadata": {},
   "outputs": [],
   "source": [
    "df=tables[0]\n",
    "df.head()"
   ]
  },
  {
   "cell_type": "code",
   "execution_count": null,
   "metadata": {},
   "outputs": [],
   "source": []
  }
 ],
 "metadata": {
  "kernelspec": {
   "display_name": "Python 3",
   "language": "python",
   "name": "python3"
  },
  "language_info": {
   "codemirror_mode": {
    "name": "ipython",
    "version": 3
   },
   "file_extension": ".py",
   "mimetype": "text/x-python",
   "name": "python",
   "nbconvert_exporter": "python",
   "pygments_lexer": "ipython3",
   "version": "3.8.5"
  }
 },
 "nbformat": 4,
 "nbformat_minor": 4
}
