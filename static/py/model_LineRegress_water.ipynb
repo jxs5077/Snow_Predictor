{
 "cells": [
  {
   "cell_type": "code",
   "execution_count": 2,
   "metadata": {
    "scrolled": true
   },
   "outputs": [],
   "source": [
    "%matplotlib inline\n",
    "import matplotlib.pyplot as plt\n",
    "import numpy as np\n",
    "import pandas as pd"
   ]
  },
  {
   "cell_type": "code",
   "execution_count": 3,
   "metadata": {
    "scrolled": true
   },
   "outputs": [
    {
     "data": {
      "text/html": [
       "<div>\n",
       "<style scoped>\n",
       "    .dataframe tbody tr th:only-of-type {\n",
       "        vertical-align: middle;\n",
       "    }\n",
       "\n",
       "    .dataframe tbody tr th {\n",
       "        vertical-align: top;\n",
       "    }\n",
       "\n",
       "    .dataframe thead th {\n",
       "        text-align: right;\n",
       "    }\n",
       "</style>\n",
       "<table border=\"1\" class=\"dataframe\">\n",
       "  <thead>\n",
       "    <tr style=\"text-align: right;\">\n",
       "      <th></th>\n",
       "      <th>Abbrev</th>\n",
       "      <th>Meas Date</th>\n",
       "      <th>Streamflow Value</th>\n",
       "      <th>Streamflow Meas Units</th>\n",
       "      <th>Streamflow Review Status</th>\n",
       "      <th>Streamflow Data Source</th>\n",
       "      <th>Unnamed: 6</th>\n",
       "    </tr>\n",
       "  </thead>\n",
       "  <tbody>\n",
       "    <tr>\n",
       "      <th>0</th>\n",
       "      <td>PLADENCO</td>\n",
       "      <td>05/24/2000</td>\n",
       "      <td>398.0</td>\n",
       "      <td>cfs</td>\n",
       "      <td>A</td>\n",
       "      <td>DWR</td>\n",
       "      <td>NaN</td>\n",
       "    </tr>\n",
       "    <tr>\n",
       "      <th>1</th>\n",
       "      <td>PLADENCO</td>\n",
       "      <td>05/25/2000</td>\n",
       "      <td>502.0</td>\n",
       "      <td>cfs</td>\n",
       "      <td>A</td>\n",
       "      <td>DWR</td>\n",
       "      <td>NaN</td>\n",
       "    </tr>\n",
       "    <tr>\n",
       "      <th>2</th>\n",
       "      <td>PLADENCO</td>\n",
       "      <td>05/26/2000</td>\n",
       "      <td>435.0</td>\n",
       "      <td>cfs</td>\n",
       "      <td>A</td>\n",
       "      <td>DWR</td>\n",
       "      <td>NaN</td>\n",
       "    </tr>\n",
       "    <tr>\n",
       "      <th>3</th>\n",
       "      <td>PLADENCO</td>\n",
       "      <td>05/27/2000</td>\n",
       "      <td>431.0</td>\n",
       "      <td>cfs</td>\n",
       "      <td>A</td>\n",
       "      <td>DWR</td>\n",
       "      <td>NaN</td>\n",
       "    </tr>\n",
       "    <tr>\n",
       "      <th>4</th>\n",
       "      <td>PLADENCO</td>\n",
       "      <td>05/28/2000</td>\n",
       "      <td>412.0</td>\n",
       "      <td>cfs</td>\n",
       "      <td>A</td>\n",
       "      <td>DWR</td>\n",
       "      <td>NaN</td>\n",
       "    </tr>\n",
       "    <tr>\n",
       "      <th>...</th>\n",
       "      <td>...</td>\n",
       "      <td>...</td>\n",
       "      <td>...</td>\n",
       "      <td>...</td>\n",
       "      <td>...</td>\n",
       "      <td>...</td>\n",
       "      <td>...</td>\n",
       "    </tr>\n",
       "    <tr>\n",
       "      <th>7665</th>\n",
       "      <td>PLADENCO</td>\n",
       "      <td>05/19/2021</td>\n",
       "      <td>607.0</td>\n",
       "      <td>cfs</td>\n",
       "      <td>O</td>\n",
       "      <td>DWR</td>\n",
       "      <td>NaN</td>\n",
       "    </tr>\n",
       "    <tr>\n",
       "      <th>7666</th>\n",
       "      <td>PLADENCO</td>\n",
       "      <td>05/20/2021</td>\n",
       "      <td>615.0</td>\n",
       "      <td>cfs</td>\n",
       "      <td>O</td>\n",
       "      <td>DWR</td>\n",
       "      <td>NaN</td>\n",
       "    </tr>\n",
       "    <tr>\n",
       "      <th>7667</th>\n",
       "      <td>PLADENCO</td>\n",
       "      <td>05/21/2021</td>\n",
       "      <td>703.0</td>\n",
       "      <td>cfs</td>\n",
       "      <td>O</td>\n",
       "      <td>DWR</td>\n",
       "      <td>NaN</td>\n",
       "    </tr>\n",
       "    <tr>\n",
       "      <th>7668</th>\n",
       "      <td>PLADENCO</td>\n",
       "      <td>05/22/2021</td>\n",
       "      <td>635.0</td>\n",
       "      <td>cfs</td>\n",
       "      <td>O</td>\n",
       "      <td>DWR</td>\n",
       "      <td>NaN</td>\n",
       "    </tr>\n",
       "    <tr>\n",
       "      <th>7669</th>\n",
       "      <td>PLADENCO</td>\n",
       "      <td>05/23/2021</td>\n",
       "      <td>821.0</td>\n",
       "      <td>cfs</td>\n",
       "      <td>O</td>\n",
       "      <td>DWR</td>\n",
       "      <td>NaN</td>\n",
       "    </tr>\n",
       "  </tbody>\n",
       "</table>\n",
       "<p>7670 rows × 7 columns</p>\n",
       "</div>"
      ],
      "text/plain": [
       "        Abbrev   Meas Date  Streamflow Value Streamflow Meas Units  \\\n",
       "0     PLADENCO  05/24/2000             398.0                   cfs   \n",
       "1     PLADENCO  05/25/2000             502.0                   cfs   \n",
       "2     PLADENCO  05/26/2000             435.0                   cfs   \n",
       "3     PLADENCO  05/27/2000             431.0                   cfs   \n",
       "4     PLADENCO  05/28/2000             412.0                   cfs   \n",
       "...        ...         ...               ...                   ...   \n",
       "7665  PLADENCO  05/19/2021             607.0                   cfs   \n",
       "7666  PLADENCO  05/20/2021             615.0                   cfs   \n",
       "7667  PLADENCO  05/21/2021             703.0                   cfs   \n",
       "7668  PLADENCO  05/22/2021             635.0                   cfs   \n",
       "7669  PLADENCO  05/23/2021             821.0                   cfs   \n",
       "\n",
       "     Streamflow Review Status Streamflow Data Source  Unnamed: 6  \n",
       "0                           A                    DWR         NaN  \n",
       "1                           A                    DWR         NaN  \n",
       "2                           A                    DWR         NaN  \n",
       "3                           A                    DWR         NaN  \n",
       "4                           A                    DWR         NaN  \n",
       "...                       ...                    ...         ...  \n",
       "7665                        O                    DWR         NaN  \n",
       "7666                        O                    DWR         NaN  \n",
       "7667                        O                    DWR         NaN  \n",
       "7668                        O                    DWR         NaN  \n",
       "7669                        O                    DWR         NaN  \n",
       "\n",
       "[7670 rows x 7 columns]"
      ]
     },
     "execution_count": 3,
     "metadata": {},
     "output_type": "execute_result"
    }
   ],
   "source": [
    "# Read the csv file into a pandas DataFrame\n",
    "df = pd.read_csv(\"../data/Selected_Station_Analysis_Xtab_202105242013.csv\")\n",
    "# Drop the null columns where all values are null\n",
    "# base_df = base_df.dropna(axis='columns', how='all')\n",
    "# # Drop the null rows\n",
    "# base_df = base_df.dropna()\n",
    "df"
   ]
  },
  {
   "cell_type": "code",
   "execution_count": null,
   "metadata": {},
   "outputs": [],
   "source": []
  },
  {
   "cell_type": "code",
   "execution_count": 4,
   "metadata": {
    "scrolled": false
   },
   "outputs": [],
   "source": [
    "# join_df = pd.read_csv(\"../data/2020-01-01-2021-05-23-expanded.csv\")\n",
    "# sample_df= join_df.iloc[range(0,512)]\n",
    "# sample_df"
   ]
  },
  {
   "cell_type": "code",
   "execution_count": 5,
   "metadata": {
    "scrolled": true
   },
   "outputs": [],
   "source": [
    "# df=base_df.merge(join_df, how='left', on=['Station Name','Date'])\n",
    "# df.head(512)"
   ]
  },
  {
   "cell_type": "code",
   "execution_count": 37,
   "metadata": {},
   "outputs": [],
   "source": [
    "# baro=list(join_df['Soil Temperature Observed -2in (degF) Start of Day Values'].unique())\n",
    "# baro"
   ]
  },
  {
   "cell_type": "code",
   "execution_count": 5,
   "metadata": {
    "scrolled": false
   },
   "outputs": [
    {
     "data": {
      "text/html": [
       "<div>\n",
       "<style scoped>\n",
       "    .dataframe tbody tr th:only-of-type {\n",
       "        vertical-align: middle;\n",
       "    }\n",
       "\n",
       "    .dataframe tbody tr th {\n",
       "        vertical-align: top;\n",
       "    }\n",
       "\n",
       "    .dataframe thead th {\n",
       "        text-align: right;\n",
       "    }\n",
       "</style>\n",
       "<table border=\"1\" class=\"dataframe\">\n",
       "  <thead>\n",
       "    <tr style=\"text-align: right;\">\n",
       "      <th></th>\n",
       "      <th>Abbrev</th>\n",
       "      <th>Meas Date</th>\n",
       "      <th>Streamflow Value</th>\n",
       "      <th>Streamflow Meas Units</th>\n",
       "      <th>Streamflow Review Status</th>\n",
       "      <th>Streamflow Data Source</th>\n",
       "      <th>Unnamed: 6</th>\n",
       "    </tr>\n",
       "  </thead>\n",
       "  <tbody>\n",
       "    <tr>\n",
       "      <th>0</th>\n",
       "      <td>PLADENCO</td>\n",
       "      <td>145</td>\n",
       "      <td>398.0</td>\n",
       "      <td>cfs</td>\n",
       "      <td>A</td>\n",
       "      <td>DWR</td>\n",
       "      <td>NaN</td>\n",
       "    </tr>\n",
       "    <tr>\n",
       "      <th>1</th>\n",
       "      <td>PLADENCO</td>\n",
       "      <td>146</td>\n",
       "      <td>502.0</td>\n",
       "      <td>cfs</td>\n",
       "      <td>A</td>\n",
       "      <td>DWR</td>\n",
       "      <td>NaN</td>\n",
       "    </tr>\n",
       "    <tr>\n",
       "      <th>2</th>\n",
       "      <td>PLADENCO</td>\n",
       "      <td>147</td>\n",
       "      <td>435.0</td>\n",
       "      <td>cfs</td>\n",
       "      <td>A</td>\n",
       "      <td>DWR</td>\n",
       "      <td>NaN</td>\n",
       "    </tr>\n",
       "    <tr>\n",
       "      <th>3</th>\n",
       "      <td>PLADENCO</td>\n",
       "      <td>148</td>\n",
       "      <td>431.0</td>\n",
       "      <td>cfs</td>\n",
       "      <td>A</td>\n",
       "      <td>DWR</td>\n",
       "      <td>NaN</td>\n",
       "    </tr>\n",
       "    <tr>\n",
       "      <th>4</th>\n",
       "      <td>PLADENCO</td>\n",
       "      <td>149</td>\n",
       "      <td>412.0</td>\n",
       "      <td>cfs</td>\n",
       "      <td>A</td>\n",
       "      <td>DWR</td>\n",
       "      <td>NaN</td>\n",
       "    </tr>\n",
       "    <tr>\n",
       "      <th>...</th>\n",
       "      <td>...</td>\n",
       "      <td>...</td>\n",
       "      <td>...</td>\n",
       "      <td>...</td>\n",
       "      <td>...</td>\n",
       "      <td>...</td>\n",
       "      <td>...</td>\n",
       "    </tr>\n",
       "    <tr>\n",
       "      <th>7665</th>\n",
       "      <td>PLADENCO</td>\n",
       "      <td>139</td>\n",
       "      <td>607.0</td>\n",
       "      <td>cfs</td>\n",
       "      <td>O</td>\n",
       "      <td>DWR</td>\n",
       "      <td>NaN</td>\n",
       "    </tr>\n",
       "    <tr>\n",
       "      <th>7666</th>\n",
       "      <td>PLADENCO</td>\n",
       "      <td>140</td>\n",
       "      <td>615.0</td>\n",
       "      <td>cfs</td>\n",
       "      <td>O</td>\n",
       "      <td>DWR</td>\n",
       "      <td>NaN</td>\n",
       "    </tr>\n",
       "    <tr>\n",
       "      <th>7667</th>\n",
       "      <td>PLADENCO</td>\n",
       "      <td>141</td>\n",
       "      <td>703.0</td>\n",
       "      <td>cfs</td>\n",
       "      <td>O</td>\n",
       "      <td>DWR</td>\n",
       "      <td>NaN</td>\n",
       "    </tr>\n",
       "    <tr>\n",
       "      <th>7668</th>\n",
       "      <td>PLADENCO</td>\n",
       "      <td>142</td>\n",
       "      <td>635.0</td>\n",
       "      <td>cfs</td>\n",
       "      <td>O</td>\n",
       "      <td>DWR</td>\n",
       "      <td>NaN</td>\n",
       "    </tr>\n",
       "    <tr>\n",
       "      <th>7669</th>\n",
       "      <td>PLADENCO</td>\n",
       "      <td>143</td>\n",
       "      <td>821.0</td>\n",
       "      <td>cfs</td>\n",
       "      <td>O</td>\n",
       "      <td>DWR</td>\n",
       "      <td>NaN</td>\n",
       "    </tr>\n",
       "  </tbody>\n",
       "</table>\n",
       "<p>7670 rows × 7 columns</p>\n",
       "</div>"
      ],
      "text/plain": [
       "        Abbrev  Meas Date  Streamflow Value Streamflow Meas Units  \\\n",
       "0     PLADENCO        145             398.0                   cfs   \n",
       "1     PLADENCO        146             502.0                   cfs   \n",
       "2     PLADENCO        147             435.0                   cfs   \n",
       "3     PLADENCO        148             431.0                   cfs   \n",
       "4     PLADENCO        149             412.0                   cfs   \n",
       "...        ...        ...               ...                   ...   \n",
       "7665  PLADENCO        139             607.0                   cfs   \n",
       "7666  PLADENCO        140             615.0                   cfs   \n",
       "7667  PLADENCO        141             703.0                   cfs   \n",
       "7668  PLADENCO        142             635.0                   cfs   \n",
       "7669  PLADENCO        143             821.0                   cfs   \n",
       "\n",
       "     Streamflow Review Status Streamflow Data Source  Unnamed: 6  \n",
       "0                           A                    DWR         NaN  \n",
       "1                           A                    DWR         NaN  \n",
       "2                           A                    DWR         NaN  \n",
       "3                           A                    DWR         NaN  \n",
       "4                           A                    DWR         NaN  \n",
       "...                       ...                    ...         ...  \n",
       "7665                        O                    DWR         NaN  \n",
       "7666                        O                    DWR         NaN  \n",
       "7667                        O                    DWR         NaN  \n",
       "7668                        O                    DWR         NaN  \n",
       "7669                        O                    DWR         NaN  \n",
       "\n",
       "[7670 rows x 7 columns]"
      ]
     },
     "execution_count": 5,
     "metadata": {},
     "output_type": "execute_result"
    }
   ],
   "source": [
    "# convert date to numaric day of the year\n",
    "dates=df['Meas Date'].astype('datetime64[ns]')\n",
    "dates=dates.dt.dayofyear\n",
    "df['Meas Date']=dates\n",
    "df"
   ]
  },
  {
   "cell_type": "code",
   "execution_count": 8,
   "metadata": {},
   "outputs": [
    {
     "data": {
      "text/plain": [
       "Index(['Abbrev', 'Meas Date', 'Streamflow Value', 'Streamflow Meas Units',\n",
       "       'Streamflow Review Status', 'Streamflow Data Source', 'Unnamed: 6'],\n",
       "      dtype='object')"
      ]
     },
     "execution_count": 8,
     "metadata": {},
     "output_type": "execute_result"
    }
   ],
   "source": [
    "df.columns\n"
   ]
  },
  {
   "cell_type": "code",
   "execution_count": 9,
   "metadata": {
    "scrolled": false
   },
   "outputs": [
    {
     "data": {
      "text/html": [
       "<div>\n",
       "<style scoped>\n",
       "    .dataframe tbody tr th:only-of-type {\n",
       "        vertical-align: middle;\n",
       "    }\n",
       "\n",
       "    .dataframe tbody tr th {\n",
       "        vertical-align: top;\n",
       "    }\n",
       "\n",
       "    .dataframe thead th {\n",
       "        text-align: right;\n",
       "    }\n",
       "</style>\n",
       "<table border=\"1\" class=\"dataframe\">\n",
       "  <thead>\n",
       "    <tr style=\"text-align: right;\">\n",
       "      <th></th>\n",
       "      <th>Meas Date</th>\n",
       "      <th>Streamflow Value</th>\n",
       "    </tr>\n",
       "  </thead>\n",
       "  <tbody>\n",
       "    <tr>\n",
       "      <th>0</th>\n",
       "      <td>145</td>\n",
       "      <td>398.0</td>\n",
       "    </tr>\n",
       "    <tr>\n",
       "      <th>1</th>\n",
       "      <td>146</td>\n",
       "      <td>502.0</td>\n",
       "    </tr>\n",
       "    <tr>\n",
       "      <th>2</th>\n",
       "      <td>147</td>\n",
       "      <td>435.0</td>\n",
       "    </tr>\n",
       "    <tr>\n",
       "      <th>3</th>\n",
       "      <td>148</td>\n",
       "      <td>431.0</td>\n",
       "    </tr>\n",
       "    <tr>\n",
       "      <th>4</th>\n",
       "      <td>149</td>\n",
       "      <td>412.0</td>\n",
       "    </tr>\n",
       "    <tr>\n",
       "      <th>...</th>\n",
       "      <td>...</td>\n",
       "      <td>...</td>\n",
       "    </tr>\n",
       "    <tr>\n",
       "      <th>7665</th>\n",
       "      <td>139</td>\n",
       "      <td>607.0</td>\n",
       "    </tr>\n",
       "    <tr>\n",
       "      <th>7666</th>\n",
       "      <td>140</td>\n",
       "      <td>615.0</td>\n",
       "    </tr>\n",
       "    <tr>\n",
       "      <th>7667</th>\n",
       "      <td>141</td>\n",
       "      <td>703.0</td>\n",
       "    </tr>\n",
       "    <tr>\n",
       "      <th>7668</th>\n",
       "      <td>142</td>\n",
       "      <td>635.0</td>\n",
       "    </tr>\n",
       "    <tr>\n",
       "      <th>7669</th>\n",
       "      <td>143</td>\n",
       "      <td>821.0</td>\n",
       "    </tr>\n",
       "  </tbody>\n",
       "</table>\n",
       "<p>7670 rows × 2 columns</p>\n",
       "</div>"
      ],
      "text/plain": [
       "      Meas Date  Streamflow Value\n",
       "0           145             398.0\n",
       "1           146             502.0\n",
       "2           147             435.0\n",
       "3           148             431.0\n",
       "4           149             412.0\n",
       "...         ...               ...\n",
       "7665        139             607.0\n",
       "7666        140             615.0\n",
       "7667        141             703.0\n",
       "7668        142             635.0\n",
       "7669        143             821.0\n",
       "\n",
       "[7670 rows x 2 columns]"
      ]
     },
     "execution_count": 9,
     "metadata": {},
     "output_type": "execute_result"
    }
   ],
   "source": [
    "wanted_columns_df=['Meas Date', 'Streamflow Value']\n",
    "new_df=df.loc[:, wanted_columns_df]\n",
    "new_df"
   ]
  },
  {
   "cell_type": "code",
   "execution_count": 10,
   "metadata": {
    "scrolled": false
   },
   "outputs": [],
   "source": [
    "# one_hot = pd.get_dummies(df['Station Name'])\n",
    "# # Drop column as it is now encoded\n",
    "# data_df = df.drop(['Station Name'],axis = 1)\n",
    "# # Join the encoded df\n",
    "# data_df = data_df.join(one_hot)\n",
    "# data_df "
   ]
  },
  {
   "cell_type": "code",
   "execution_count": 11,
   "metadata": {
    "scrolled": true
   },
   "outputs": [],
   "source": [
    "# data_df=data_df.fillna(0)\n",
    "# data_df"
   ]
  },
  {
   "cell_type": "code",
   "execution_count": 94,
   "metadata": {},
   "outputs": [],
   "source": [
    "## Did not effect the model score much if at all\n",
    "# data=data_df[data_df['Date'].values < 318]\n",
    "# data=data_df[data_df['Date'].values < 136]\n",
    "# data"
   ]
  },
  {
   "cell_type": "code",
   "execution_count": 95,
   "metadata": {
    "scrolled": true
   },
   "outputs": [],
   "source": [
    "# clean_df.to_csv('../data/SnowDataEncoded.csv')"
   ]
  },
  {
   "cell_type": "code",
   "execution_count": 12,
   "metadata": {},
   "outputs": [
    {
     "data": {
      "text/plain": [
       "['Meas Date', 'Streamflow Value']"
      ]
     },
     "execution_count": 12,
     "metadata": {},
     "output_type": "execute_result"
    }
   ],
   "source": [
    "list(new_df.columns)"
   ]
  },
  {
   "cell_type": "code",
   "execution_count": 45,
   "metadata": {
    "scrolled": false
   },
   "outputs": [
    {
     "data": {
      "text/html": [
       "<div>\n",
       "<style scoped>\n",
       "    .dataframe tbody tr th:only-of-type {\n",
       "        vertical-align: middle;\n",
       "    }\n",
       "\n",
       "    .dataframe tbody tr th {\n",
       "        vertical-align: top;\n",
       "    }\n",
       "\n",
       "    .dataframe thead th {\n",
       "        text-align: right;\n",
       "    }\n",
       "</style>\n",
       "<table border=\"1\" class=\"dataframe\">\n",
       "  <thead>\n",
       "    <tr style=\"text-align: right;\">\n",
       "      <th></th>\n",
       "      <th>Precipitation Increment - Snow-adj (in)</th>\n",
       "      <th>Change In Snow Depth (in)</th>\n",
       "    </tr>\n",
       "  </thead>\n",
       "  <tbody>\n",
       "    <tr>\n",
       "      <th>Precipitation Increment - Snow-adj (in)</th>\n",
       "      <td>1.000000</td>\n",
       "      <td>0.047642</td>\n",
       "    </tr>\n",
       "    <tr>\n",
       "      <th>Change In Snow Depth (in)</th>\n",
       "      <td>0.047642</td>\n",
       "      <td>1.000000</td>\n",
       "    </tr>\n",
       "  </tbody>\n",
       "</table>\n",
       "</div>"
      ],
      "text/plain": [
       "                                         Precipitation Increment - Snow-adj (in)  \\\n",
       "Precipitation Increment - Snow-adj (in)                                 1.000000   \n",
       "Change In Snow Depth (in)                                               0.047642   \n",
       "\n",
       "                                         Change In Snow Depth (in)  \n",
       "Precipitation Increment - Snow-adj (in)                   0.047642  \n",
       "Change In Snow Depth (in)                                 1.000000  "
      ]
     },
     "execution_count": 45,
     "metadata": {},
     "output_type": "execute_result"
    }
   ],
   "source": [
    "df[['Precipitation Increment - Snow-adj (in)', 'Change In Snow Depth (in)']].corr()"
   ]
  },
  {
   "cell_type": "code",
   "execution_count": 15,
   "metadata": {
    "scrolled": true
   },
   "outputs": [
    {
     "name": "stdout",
     "output_type": "stream",
     "text": [
      "Shape:  (7670, 1) (7670, 1)\n"
     ]
    },
    {
     "data": {
      "text/plain": [
       "array([[145],\n",
       "       [146],\n",
       "       [147],\n",
       "       ...,\n",
       "       [141],\n",
       "       [142],\n",
       "       [143]], dtype=int64)"
      ]
     },
     "execution_count": 15,
     "metadata": {},
     "output_type": "execute_result"
    }
   ],
   "source": [
    "# Assign the data to X and y\n",
    "# Note: Sklearn requires a two-dimensional array of values\n",
    "# so we use reshape to create this\n",
    "\n",
    "# y = clean_df.loc[:20000, 'Change In Snow Depth (in)'].values.reshape(-1, 1)\n",
    "\n",
    "y = new_df['Streamflow Value'].values.reshape(-1, 1)\n",
    "# test_df['Date']=test_df['Date'].astype('int')\n",
    "# pd.get_dummies(#.values.reshape(-1, 1)\n",
    "X=new_df['Meas Date'].values.reshape(-1, 1)\n",
    "# X.head()\n",
    "\n",
    "print(\"Shape: \", X.shape, y.shape)\n",
    "X"
   ]
  },
  {
   "cell_type": "code",
   "execution_count": 16,
   "metadata": {
    "nbgrader": {
     "grade": false,
     "grade_id": "cell-9042a62fdddc21ba",
     "locked": false,
     "schema_version": 1,
     "solution": true
    },
    "scrolled": false
   },
   "outputs": [
    {
     "data": {
      "text/plain": [
       "<matplotlib.collections.PathCollection at 0x259c9abccc0>"
      ]
     },
     "execution_count": 16,
     "metadata": {},
     "output_type": "execute_result"
    },
    {
     "data": {
      "image/png": "[encoded data removed]",
      "text/plain": [
       "<Figure size 432x288 with 1 Axes>"
      ]
     },
     "metadata": {
      "needs_background": "light"
     },
     "output_type": "display_data"
    }
   ],
   "source": [
    "# Plot the data\n",
    "\n",
    "### BEGIN SOLUTION\n",
    "\n",
    "plt.scatter(X, y)\n",
    "\n",
    "### END SOLUTION"
   ]
  },
  {
   "cell_type": "code",
   "execution_count": 17,
   "metadata": {
    "nbgrader": {
     "grade": false,
     "grade_id": "cell-c28431477001b4ca",
     "locked": false,
     "schema_version": 1,
     "solution": true
    },
    "scrolled": true
   },
   "outputs": [],
   "source": [
    "# Create the model and fit the model to the data\n",
    "\n",
    "from sklearn.linear_model import LinearRegression\n",
    "\n",
    "### BEGIN SOLUTION\n",
    "\n",
    "model = LinearRegression()\n",
    "\n",
    "### END SOLUTION"
   ]
  },
  {
   "cell_type": "code",
   "execution_count": 18,
   "metadata": {
    "nbgrader": {
     "grade": false,
     "grade_id": "cell-cf45418a342b12fd",
     "locked": false,
     "schema_version": 1,
     "solution": true
    },
    "scrolled": true
   },
   "outputs": [
    {
     "data": {
      "text/plain": [
       "LinearRegression()"
      ]
     },
     "execution_count": 18,
     "metadata": {},
     "output_type": "execute_result"
    }
   ],
   "source": [
    "# Fit the model to the data. \n",
    "# Note: This is the training step where you fit the line to the data.\n",
    "model.fit(X, y)"
   ]
  },
  {
   "cell_type": "code",
   "execution_count": 19,
   "metadata": {
    "nbgrader": {
     "grade": false,
     "grade_id": "cell-546fc1044e2e1c77",
     "locked": false,
     "schema_version": 1,
     "solution": true
    },
    "scrolled": true
   },
   "outputs": [
    {
     "name": "stdout",
     "output_type": "stream",
     "text": [
      "Weight coefficients:  [[-0.3282466]]\n",
      "y-axis intercept:  [367.35803461]\n"
     ]
    }
   ],
   "source": [
    "# Print the coefficient and the intercept for the model\n",
    "\n",
    "print('Weight coefficients: ', model.coef_)\n",
    "print('y-axis intercept: ', model.intercept_)"
   ]
  },
  {
   "cell_type": "code",
   "execution_count": 39,
   "metadata": {
    "scrolled": true
   },
   "outputs": [],
   "source": [
    "# len(features_list)"
   ]
  },
  {
   "cell_type": "code",
   "execution_count": 39,
   "metadata": {
    "scrolled": true
   },
   "outputs": [
    {
     "data": {
      "text/plain": [
       "array([[309.91487975]])"
      ]
     },
     "execution_count": 39,
     "metadata": {},
     "output_type": "execute_result"
    }
   ],
   "source": [
    "x_m = np.array([[175]])\n",
    "model.predict(x_m)"
   ]
  },
  {
   "cell_type": "code",
   "execution_count": 40,
   "metadata": {
    "scrolled": true
   },
   "outputs": [
    {
     "data": {
      "text/plain": [
       "0.0064803406293282295"
      ]
     },
     "execution_count": 40,
     "metadata": {},
     "output_type": "execute_result"
    }
   ],
   "source": [
    "model.score(X, y)"
   ]
  },
  {
   "cell_type": "code",
   "execution_count": null,
   "metadata": {
    "scrolled": true
   },
   "outputs": [],
   "source": []
  },
  {
   "cell_type": "code",
   "execution_count": 42,
   "metadata": {
    "collapsed": true,
    "scrolled": true
   },
   "outputs": [
    {
     "name": "stdout",
     "output_type": "stream",
     "text": [
      "Min X Value: [[101]]\n",
      "Max X Value: [[1231]]\n"
     ]
    }
   ],
   "source": [
    "# Note: we have to transform our min and max values \n",
    "# so they are in the format: array([[ 1.17]])\n",
    "# This is the required format for `model.predict()`\n",
    "x_min = np.array([[X.min()]])\n",
    "x_max = np.array([[X.max()]])\n",
    "print(f\"Min X Value: {x_min}\")\n",
    "print(f\"Max X Value: {x_max}\")"
   ]
  },
  {
   "cell_type": "code",
   "execution_count": 43,
   "metadata": {
    "collapsed": true,
    "nbgrader": {
     "grade": false,
     "grade_id": "cell-5314a52e13fd4e63",
     "locked": false,
     "schema_version": 1,
     "solution": true
    },
    "scrolled": true
   },
   "outputs": [],
   "source": [
    "# Calculate the y_min and y_max using model.predict and x_min and x_max\n",
    "y_min = model.predict(x_min)\n",
    "y_max = model.predict(x_max)"
   ]
  },
  {
   "cell_type": "code",
   "execution_count": 44,
   "metadata": {
    "collapsed": true,
    "nbgrader": {
     "grade": false,
     "grade_id": "cell-63f9d27c8f668bfa",
     "locked": false,
     "schema_version": 1,
     "solution": true
    },
    "scrolled": true
   },
   "outputs": [
    {
     "data": {
      "text/plain": [
       "[<matplotlib.lines.Line2D at 0x1bf16664940>]"
      ]
     },
     "execution_count": 44,
     "metadata": {},
     "output_type": "execute_result"
    },
    {
     "data": {
      "image/png": "[encoded data removed]",
      "text/plain": [
       "<Figure size 432x288 with 1 Axes>"
      ]
     },
     "metadata": {
      "needs_background": "light"
     },
     "output_type": "display_data"
    }
   ],
   "source": [
    "# Plot X and y using plt.scatter\n",
    "# Plot the model fit line using [x_min[0], x_max[0]], [y_min[0], y_max[0]]\n",
    "plt.scatter(X, y, c='blue')\n",
    "plt.plot([x_min[0], x_max[0]], [y_min[0], y_max[0]], c='red')"
   ]
  },
  {
   "cell_type": "code",
   "execution_count": null,
   "metadata": {
    "collapsed": true,
    "scrolled": true
   },
   "outputs": [],
   "source": []
  },
  {
   "cell_type": "code",
   "execution_count": null,
   "metadata": {
    "collapsed": true,
    "scrolled": true
   },
   "outputs": [],
   "source": []
  }
 ],
 "metadata": {
  "celltoolbar": "Create Assignment",
  "kernelspec": {
   "display_name": "Python [conda env:PythonAdv] *",
   "language": "python",
   "name": "conda-env-PythonAdv-py"
  },
  "language_info": {
   "codemirror_mode": {
    "name": "ipython",
    "version": 3
   },
   "file_extension": ".py",
   "mimetype": "text/x-python",
   "name": "python",
   "nbconvert_exporter": "python",
   "pygments_lexer": "ipython3",
   "version": "3.6.13"
  },
  "varInspector": {
   "cols": {
    "lenName": 16,
    "lenType": 16,
    "lenVar": 40
   },
   "kernels_config": {
    "python": {
     "delete_cmd_postfix": "",
     "delete_cmd_prefix": "del ",
     "library": "var_list.py",
     "varRefreshCmd": "print(var_dic_list())"
    },
    "r": {
     "delete_cmd_postfix": ") ",
     "delete_cmd_prefix": "rm(",
     "library": "var_list.r",
     "varRefreshCmd": "cat(var_dic_list()) "
    }
   },
   "types_to_exclude": [
    "module",
    "function",
    "builtin_function_or_method",
    "instance",
    "_Feature"
   ],
   "window_display": false
  }
 },
 "nbformat": 4,
 "nbformat_minor": 2
}
